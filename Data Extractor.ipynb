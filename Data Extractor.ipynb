{
 "cells": [
  {
   "cell_type": "code",
   "execution_count": 1,
   "id": "c82d730f",
   "metadata": {},
   "outputs": [],
   "source": [
    "import pandas as pd\n",
    "from pandas.api.types import is_numeric_dtype\n",
    "import json"
   ]
  },
  {
   "cell_type": "code",
   "execution_count": 2,
   "id": "a5154057",
   "metadata": {},
   "outputs": [],
   "source": [
    "source = pd.read_table(\"UCS-Satellite-Database-5-1-2022.tsv\", encoding = \"ISO-8859-1\")"
   ]
  },
  {
   "cell_type": "code",
   "execution_count": 3,
   "id": "5ac28253",
   "metadata": {},
   "outputs": [],
   "source": [
    "target = source\n",
    "observed_limit = {}\n",
    "for column in source:\n",
    "    if(not source[column].isna().all()):\n",
    "        if(is_numeric_dtype(source[column])):\n",
    "            target.drop([column], axis=1)\n",
    "            observed_limit[column] = source[column].agg(['min', 'max']).tolist()\n",
    "        else:\n",
    "            target[column] = pd.Series(source[column].unique())\n",
    "target.to_csv(\"categorical_values.csv\")\n",
    "with open('observed_limit.json', 'w') as fp:\n",
    "    json.dump(observed_limit, fp)"
   ]
  },
  {
   "cell_type": "code",
   "execution_count": null,
   "id": "d94e8959",
   "metadata": {},
   "outputs": [],
   "source": []
  }
 ],
 "metadata": {
  "kernelspec": {
   "display_name": "Python 3 (ipykernel)",
   "language": "python",
   "name": "python3"
  },
  "language_info": {
   "codemirror_mode": {
    "name": "ipython",
    "version": 3
   },
   "file_extension": ".py",
   "mimetype": "text/x-python",
   "name": "python",
   "nbconvert_exporter": "python",
   "pygments_lexer": "ipython3",
   "version": "3.9.12"
  }
 },
 "nbformat": 4,
 "nbformat_minor": 5
}
